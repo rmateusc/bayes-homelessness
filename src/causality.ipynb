{
 "cells": [
  {
   "attachments": {},
   "cell_type": "markdown",
   "metadata": {},
   "source": [
    "- correlation or association is not causation\n",
    "- observed relationships between two variables do not necessarily mean that one causes the other\n",
    "- correlation refers to a linear relationship between two variables whereas association refers to any relationship between two (or more) variables\n",
    "- Causation, on the other hand, means that one variable (often called the predictor variable or independent variable) causes the other (often called the outcome variable or dependent variable)"
   ]
  },
  {
   "attachments": {},
   "cell_type": "markdown",
   "metadata": {},
   "source": [
    "# Imports"
   ]
  },
  {
   "cell_type": "code",
   "execution_count": 2,
   "metadata": {},
   "outputs": [],
   "source": [
    "import os\n",
    "import numpy as np\n",
    "import pandas as pd\n",
    "import bnlearn\n",
    "from statsmodels.stats.outliers_influence import variance_inflation_factor\n",
    "\n",
    "from scipy.stats import hypergeom"
   ]
  },
  {
   "attachments": {},
   "cell_type": "markdown",
   "metadata": {},
   "source": [
    "# Read data"
   ]
  },
  {
   "cell_type": "code",
   "execution_count": 9,
   "metadata": {},
   "outputs": [],
   "source": [
    "# Get root directory\n",
    "root_dir = os.path.dirname(os.path.abspath(''))\n",
    "# read data\n",
    "df = pd.read_csv(\n",
    "    os.path.join(root_dir, 'data', 'filtered_data.csv')\n",
    "    )"
   ]
  },
  {
   "attachments": {},
   "cell_type": "markdown",
   "metadata": {},
   "source": [
    "# BART (Bayesian Additive Regression Tree):\n",
    "\n",
    "https://stats.stackexchange.com/questions/446416/how-does-bart-bayesian-additive-regression-tree-help-with-causal-inference#:~:text=BART%20has%20a%20few%20advantages,intervals%20can%20be%20directly%20computed.\n",
    "\n",
    "- BART has a few advantages for causal inference that distinguish it from other methods.\n",
    "- tuning parameters correspond to Bayesian priors, each predicted value has a posterior distribution, from which credible intervals can be directly computed\n",
    "- it is extremely flexible and is able to account for nonlinearities and interactions without overfitting due to the Bayesian priors\n",
    "- it's possible to incorporate substantive information into the priors, for example, on which variables to perform a split or for which variables the treatment effect should vary\n",
    "\n",
    "\n",
    "https://faculty.mccombs.utexas.edu/carlos.carvalho/BCFTalk_March2019.pdf\n",
    "\n"
   ]
  },
  {
   "attachments": {},
   "cell_type": "markdown",
   "metadata": {},
   "source": [
    "https://www.youtube.com/watch?v=9d5-3_7u5a4\n",
    "\n",
    "Regression Tree (non param approach):\n",
    "- Algorithmic partition of data into non-overlapping subsets\n",
    "- Goal is to minimize the variance in the response variable within subsets\n",
    "- Resulting regression fit is the mean of each subset"
   ]
  },
  {
   "cell_type": "code",
   "execution_count": null,
   "metadata": {},
   "outputs": [],
   "source": []
  },
  {
   "cell_type": "code",
   "execution_count": null,
   "metadata": {},
   "outputs": [],
   "source": []
  },
  {
   "attachments": {},
   "cell_type": "markdown",
   "metadata": {},
   "source": [
    "# BNM (Bayesian Network Model):\n",
    "https://towardsdatascience.com/a-step-by-step-guide-in-detecting-causal-relationships-using-bayesian-structure-learning-in-python-c20c6b31cee5"
   ]
  },
  {
   "cell_type": "code",
   "execution_count": 3,
   "metadata": {},
   "outputs": [
    {
     "name": "stdout",
     "output_type": "stream",
     "text": [
      "[bnlearn] >Downloading example [titanic_train] dataset..\n",
      "[bnlearn] >Import dataset..\n",
      "     Survived     Sex\n",
      "0           0    male\n",
      "1           1  female\n",
      "2           1  female\n",
      "3           1  female\n",
      "4           0    male\n",
      "..        ...     ...\n",
      "886         0    male\n",
      "887         1  female\n",
      "888         0  female\n",
      "889         1    male\n",
      "890         0    male\n",
      "\n",
      "[891 rows x 2 columns]\n"
     ]
    }
   ],
   "source": [
    "# Load titanic dataset\n",
    "df = bnlearn.import_example(data='titanic')\n",
    "\n",
    "print(df[['Survived','Sex']])"
   ]
  },
  {
   "cell_type": "code",
   "execution_count": 4,
   "metadata": {},
   "outputs": [
    {
     "name": "stdout",
     "output_type": "stream",
     "text": [
      "232 891 314 342\n",
      "3.5925132664694183e-60\n"
     ]
    }
   ],
   "source": [
    "# Total number of samples\n",
    "N=df.shape[0]\n",
    "# Number of success in the population\n",
    "K=sum(df['Survived']==1)\n",
    "# Sample size/number of draws\n",
    "n=sum(df['Sex']=='female')\n",
    "# Overlap between female and survived\n",
    "x=sum((df['Sex']=='female') & (df['Survived']==1))\n",
    "\n",
    "print(x-1, N, n, K)\n",
    "# 232 891 314 342\n",
    "\n",
    "# Compute\n",
    "P = hypergeom.sf(x, N, n, K)\n",
    "P = hypergeom.sf(232, 891, 314, 342)\n",
    "\n",
    "print(P)"
   ]
  },
  {
   "attachments": {},
   "cell_type": "markdown",
   "metadata": {},
   "source": [
    "Null hypothesis: There is no relation between survived and female.\n",
    "\n",
    "We can reject the null hypothesis under alpha=0.05 and therefore, we can speak about a statistically significant association between survived and female. Importantly, association by itself does not imply causation. We need to distinguish between marginal associations and conditional associations. The latter is the key building block of causal inference."
   ]
  },
  {
   "cell_type": "code",
   "execution_count": null,
   "metadata": {},
   "outputs": [],
   "source": []
  },
  {
   "attachments": {},
   "cell_type": "markdown",
   "metadata": {},
   "source": [
    "If two random variables X and Y are statistically dependent (X/Y), then either:\n",
    "- (a) X causes Y\n",
    "- (b) Y causes X\n",
    "- (c) there exists a third variable Z that causes both X and Y.\n",
    "\n",
    "Further, X and Y become independent given Z, i.e., X⊥Y∣Z.\n",
    "This definition is incorporated in Bayesian graphical models (Bayesian Networks)\n",
    "\n",
    "![conditional_dependencies.png](attachment:conditional_dependencies.png)\n",
    "\n",
    "The conceptual idea to determine the direction of causality, thus which node influences which node, is by holding a node constant and then observe the effect.\n",
    "\n",
    "Bayesian network is a happy marriage between probability and graph theory. It should be noted that a Bayesian network is a Directed Acyclic Graph (DAG) and DAGs are causal. This means that the edges in the graph are directed and there is no (feedback) loop (acyclic).\n",
    "\n",
    "With structure learning, we want to determine the structure of the graph that best captures the causal dependencies between the variables in the data set. **What is the DAG that best fits the data?**\n",
    "\n",
    "an exhaustive search is practically infeasible with a large number of nodes, and therefore, various greedy strategies have been proposed to browse DAG space\n",
    "\n",
    "\n",
    "With optimization-based search approaches, it is possible to browse a larger DAG space. Such approaches require a scoring function and a search strategy. A common scoring function is the posterior probability of the structure given the training data, like the BIC or the BDeu.\n",
    "\n",
    "There are two broad approaches to search throughout the DAG space and find the best fitting graph for the data.\n",
    "- _Score-based structure learning_: The **search algorithm** to optimize throughout the search space of all possible DAGs; such as ExhaustiveSearch, Hillclimbsearch, Chow-Liu. The **scoring function** indicates how well the Bayesian network fits the data. Commonly used scoring functions are Bayesian Dirichlet scores such as BDeu or K2 and the Bayesian Information Criterion (BIC, also called MDL).\n",
    "- _Constraint-based structure learning_:\n",
    "\n",
    "Note that a local search strategy makes incremental changes aimed at improving the score of the structure. A global search algorithm like Markov chain Monte Carlo can avoid getting trapped in local minima."
   ]
  },
  {
   "attachments": {},
   "cell_type": "markdown",
   "metadata": {},
   "source": [
    "## Splinker example"
   ]
  },
  {
   "attachments": {},
   "cell_type": "markdown",
   "metadata": {},
   "source": [
    "### Structure Learning"
   ]
  },
  {
   "cell_type": "code",
   "execution_count": 5,
   "metadata": {},
   "outputs": [
    {
     "name": "stdout",
     "output_type": "stream",
     "text": [
      "[bnlearn] >Downloading example [sprinkler] dataset..\n",
      "[bnlearn] >Import dataset..\n",
      "     Cloudy  Sprinkler  Rain  Wet_Grass\n",
      "0         0          0     0          0\n",
      "1         1          0     1          1\n",
      "2         0          1     0          1\n",
      "3         1          1     1          1\n",
      "4         1          1     1          1\n",
      "..      ...        ...   ...        ...\n",
      "995       1          0     1          1\n",
      "996       1          0     1          1\n",
      "997       1          0     1          1\n",
      "998       0          0     0          0\n",
      "999       0          1     1          1\n",
      "\n",
      "[1000 rows x 4 columns]\n"
     ]
    }
   ],
   "source": [
    "import bnlearn as bn\n",
    "# Load sprinkler dataset\n",
    "df = bn.import_example('sprinkler')\n",
    "# Print to screen for illustration\n",
    "print(df)"
   ]
  },
  {
   "cell_type": "code",
   "execution_count": 16,
   "metadata": {},
   "outputs": [
    {
     "name": "stdout",
     "output_type": "stream",
     "text": [
      "[bnlearn] >Computing best DAG using [hc]\n",
      "[bnlearn] >Set scoring type at [bic]\n",
      "[bnlearn] >Compute structure scores ['k2', 'bds', 'bic', 'bdeu'] for model comparison (higher is better).\n"
     ]
    }
   ],
   "source": [
    "# Learn the DAG in data using Bayesian structure learning:\n",
    "DAG = bn.structure_learning.fit(df)"
   ]
  },
  {
   "cell_type": "code",
   "execution_count": 17,
   "metadata": {},
   "outputs": [
    {
     "name": "stdout",
     "output_type": "stream",
     "text": [
      "target     Cloudy  Sprinkler   Rain  Wet_Grass\n",
      "source                                        \n",
      "Cloudy      False      False   True      False\n",
      "Sprinkler    True      False  False       True\n",
      "Rain        False      False  False       True\n",
      "Wet_Grass   False      False  False      False\n"
     ]
    }
   ],
   "source": [
    "# print adjacency matrix\n",
    "print(DAG['adjmat'])"
   ]
  },
  {
   "cell_type": "code",
   "execution_count": 18,
   "metadata": {},
   "outputs": [
    {
     "name": "stdout",
     "output_type": "stream",
     "text": [
      "[bnlearn] >Set node properties.\n",
      "[bnlearn] >Set edge properties.\n",
      "[bnlearn] >Plot based on Bayesian model\n"
     ]
    },
    {
     "data": {
      "image/png": "[encoded data removed]",
      "text/plain": [
       "<Figure size 1500x1000 with 1 Axes>"
      ]
     },
     "metadata": {},
     "output_type": "display_data"
    }
   ],
   "source": [
    "# Plot\n",
    "G = bn.plot(DAG)"
   ]
  },
  {
   "cell_type": "code",
   "execution_count": null,
   "metadata": {},
   "outputs": [],
   "source": [
    "# 'hc' or 'hillclimbsearch'\n",
    "model_hc_bic  = bn.structure_learning.fit(df, methodtype='hc', scoretype='bic')\n",
    "model_hc_k2   = bn.structure_learning.fit(df, methodtype='hc', scoretype='k2')\n",
    "model_hc_bdeu = bn.structure_learning.fit(df, methodtype='hc', scoretype='bdeu')\n",
    "\n",
    "# 'ex' or 'exhaustivesearch'\n",
    "model_ex_bic  = bn.structure_learning.fit(df, methodtype='ex', scoretype='bic')\n",
    "model_ex_k2   = bn.structure_learning.fit(df, methodtype='ex', scoretype='k2')\n",
    "model_ex_bdeu = bn.structure_learning.fit(df, methodtype='ex', scoretype='bdeu')\n",
    "\n",
    "# 'cs' or 'constraintsearch'\n",
    "model_cs_k2   = bn.structure_learning.fit(df, methodtype='cs', scoretype='k2')\n",
    "model_cs_bdeu = bn.structure_learning.fit(df, methodtype='cs', scoretype='bdeu')\n",
    "model_cs_bic  = bn.structure_learning.fit(df, methodtype='cs', scoretype='bic')\n",
    "\n",
    "# 'cl' or 'chow-liu' (requires setting root_node parameter)\n",
    "model_cl      = bn.structure_learning.fit(df, methodtype='cl', root_node='Wet_Grass')\n"
   ]
  },
  {
   "attachments": {},
   "cell_type": "markdown",
   "metadata": {},
   "source": [
    "### Parameter Learning"
   ]
  },
  {
   "cell_type": "code",
   "execution_count": 20,
   "metadata": {},
   "outputs": [],
   "source": [
    "# Define the causal dependencies based on your expert/domain knowledge.\n",
    "# Left is the source, and right is the target node.\n",
    "edges = [('Cloudy', 'Sprinkler'),\n",
    "         ('Cloudy', 'Rain'),\n",
    "         ('Sprinkler', 'Wet_Grass'),\n",
    "         ('Rain', 'Wet_Grass')]"
   ]
  },
  {
   "cell_type": "code",
   "execution_count": 21,
   "metadata": {},
   "outputs": [
    {
     "name": "stdout",
     "output_type": "stream",
     "text": [
      "[bnlearn] >bayes DAG created.\n"
     ]
    }
   ],
   "source": [
    "# Create the DAG\n",
    "DAG = bn.make_DAG(edges)"
   ]
  },
  {
   "cell_type": "code",
   "execution_count": 22,
   "metadata": {},
   "outputs": [
    {
     "name": "stdout",
     "output_type": "stream",
     "text": [
      "[bnlearn] >Set node properties.\n",
      "[bnlearn] >Set edge properties.\n",
      "[bnlearn] >Plot based on Bayesian model\n"
     ]
    },
    {
     "data": {
      "image/png": "[encoded data removed]",
      "text/plain": [
       "<Figure size 1500x1000 with 1 Axes>"
      ]
     },
     "metadata": {},
     "output_type": "display_data"
    },
    {
     "data": {
      "text/plain": [
       "{'fig': <Figure size 1500x1000 with 1 Axes>,\n",
       " 'ax': <Figure size 1500x1000 with 1 Axes>,\n",
       " 'pos': {'Cloudy': array([-0.05234133,  0.60921941]),\n",
       "  'Sprinkler': array([0.98874247, 0.14450172]),\n",
       "  'Rain': array([-1.        , -0.02304454]),\n",
       "  'Wet_Grass': array([ 0.06359885, -0.73067659])},\n",
       " 'G': <networkx.classes.digraph.DiGraph at 0x186c7d2d0>,\n",
       " 'node_properties': {'Cloudy': {'node_color': '#1f456e', 'node_size': 800},\n",
       "  'Sprinkler': {'node_color': '#1f456e', 'node_size': 800},\n",
       "  'Rain': {'node_color': '#1f456e', 'node_size': 800},\n",
       "  'Wet_Grass': {'node_color': '#1f456e', 'node_size': 800}},\n",
       " 'edge_properties': {('Cloudy', 'Sprinkler'): {'color': '#000000',\n",
       "   'weight': 1},\n",
       "  ('Cloudy', 'Rain'): {'color': '#000000', 'weight': 1},\n",
       "  ('Sprinkler', 'Wet_Grass'): {'color': '#000000', 'weight': 1},\n",
       "  ('Rain', 'Wet_Grass'): {'color': '#000000', 'weight': 1}}}"
      ]
     },
     "execution_count": 22,
     "metadata": {},
     "output_type": "execute_result"
    }
   ],
   "source": [
    "# Plot the DAG. This is identical as shown in Figure 3\n",
    "bn.plot(DAG)"
   ]
  },
  {
   "cell_type": "code",
   "execution_count": 24,
   "metadata": {},
   "outputs": [
    {
     "name": "stdout",
     "output_type": "stream",
     "text": [
      "[bnlearn] >No CPDs to print. Hint: Add CPDs as following: <bn.make_DAG(DAG, CPD=[cpd_A, cpd_B, etc])> and use bnlearn.plot(DAG) to make a plot.\n"
     ]
    },
    {
     "data": {
      "text/plain": [
       "{}"
      ]
     },
     "execution_count": 24,
     "metadata": {},
     "output_type": "execute_result"
    }
   ],
   "source": [
    "# Print the Conditional probability Tables\n",
    "bn.print_CPD(DAG)\n",
    "\n",
    "# This is correct, we did not learn any CPTs yet! We only defined the graph without defining any probabilities."
   ]
  },
  {
   "cell_type": "code",
   "execution_count": 25,
   "metadata": {},
   "outputs": [
    {
     "name": "stdout",
     "output_type": "stream",
     "text": [
      "[bnlearn] >Parameter learning> Computing parameters using [maximumlikelihood]\n",
      "[bnlearn] >CPD of Cloudy:\n",
      "+-----------+-------+\n",
      "| Cloudy(0) | 0.488 |\n",
      "+-----------+-------+\n",
      "| Cloudy(1) | 0.512 |\n",
      "+-----------+-------+\n",
      "[bnlearn] >CPD of Sprinkler:\n",
      "+--------------+--------------------+------------+\n",
      "| Cloudy       | Cloudy(0)          | Cloudy(1)  |\n",
      "+--------------+--------------------+------------+\n",
      "| Sprinkler(0) | 0.4610655737704918 | 0.91015625 |\n",
      "+--------------+--------------------+------------+\n",
      "| Sprinkler(1) | 0.5389344262295082 | 0.08984375 |\n",
      "+--------------+--------------------+------------+\n",
      "[bnlearn] >CPD of Rain:\n",
      "+---------+---------------------+-------------+\n",
      "| Cloudy  | Cloudy(0)           | Cloudy(1)   |\n",
      "+---------+---------------------+-------------+\n",
      "| Rain(0) | 0.8073770491803278  | 0.177734375 |\n",
      "+---------+---------------------+-------------+\n",
      "| Rain(1) | 0.19262295081967212 | 0.822265625 |\n",
      "+---------+---------------------+-------------+\n",
      "[bnlearn] >CPD of Wet_Grass:\n",
      "+--------------+--------------+-----+----------------------+\n",
      "| Rain         | Rain(0)      | ... | Rain(1)              |\n",
      "+--------------+--------------+-----+----------------------+\n",
      "| Sprinkler    | Sprinkler(0) | ... | Sprinkler(1)         |\n",
      "+--------------+--------------+-----+----------------------+\n",
      "| Wet_Grass(0) | 1.0          | ... | 0.023529411764705882 |\n",
      "+--------------+--------------+-----+----------------------+\n",
      "| Wet_Grass(1) | 0.0          | ... | 0.9764705882352941   |\n",
      "+--------------+--------------+-----+----------------------+\n",
      "[bnlearn] >Compute structure scores ['k2', 'bds', 'bic', 'bdeu'] for model comparison (higher is better).\n"
     ]
    }
   ],
   "source": [
    "# Parameter learning on the user-defined DAG and input data using maximumlikelihood\n",
    "model_mle = bn.parameter_learning.fit(DAG, df, methodtype='maximumlikelihood')"
   ]
  },
  {
   "cell_type": "code",
   "execution_count": 27,
   "metadata": {},
   "outputs": [
    {
     "name": "stdout",
     "output_type": "stream",
     "text": [
      "[bnlearn] >Data is stored in [query.df]\n",
      "+----+----------+-------+\n",
      "|    |   Cloudy |     p |\n",
      "+====+==========+=======+\n",
      "|  0 |        0 | 0.488 |\n",
      "+----+----------+-------+\n",
      "|  1 |        1 | 0.512 |\n",
      "+----+----------+-------+\n",
      "CPD of Cloudy:\n",
      "+-----------+-------+\n",
      "| Cloudy(0) | 0.488 |\n",
      "+-----------+-------+\n",
      "| Cloudy(1) | 0.512 |\n",
      "+-----------+-------+\n",
      "[bnlearn] >Data is stored in [query.df]\n",
      "+----+-------------+----------+-----------+\n",
      "|    |   Sprinkler |   Cloudy |         p |\n",
      "+====+=============+==========+===========+\n",
      "|  0 |           0 |        0 | 0.461066  |\n",
      "+----+-------------+----------+-----------+\n",
      "|  1 |           0 |        1 | 0.910156  |\n",
      "+----+-------------+----------+-----------+\n",
      "|  2 |           1 |        0 | 0.538934  |\n",
      "+----+-------------+----------+-----------+\n",
      "|  3 |           1 |        1 | 0.0898438 |\n",
      "+----+-------------+----------+-----------+\n",
      "CPD of Sprinkler:\n",
      "+--------------+--------------------+------------+\n",
      "| Cloudy       | Cloudy(0)          | Cloudy(1)  |\n",
      "+--------------+--------------------+------------+\n",
      "| Sprinkler(0) | 0.4610655737704918 | 0.91015625 |\n",
      "+--------------+--------------------+------------+\n",
      "| Sprinkler(1) | 0.5389344262295082 | 0.08984375 |\n",
      "+--------------+--------------------+------------+\n",
      "[bnlearn] >Data is stored in [query.df]\n",
      "+----+--------+----------+----------+\n",
      "|    |   Rain |   Cloudy |        p |\n",
      "+====+========+==========+==========+\n",
      "|  0 |      0 |        0 | 0.807377 |\n",
      "+----+--------+----------+----------+\n",
      "|  1 |      0 |        1 | 0.177734 |\n",
      "+----+--------+----------+----------+\n",
      "|  2 |      1 |        0 | 0.192623 |\n",
      "+----+--------+----------+----------+\n",
      "|  3 |      1 |        1 | 0.822266 |\n",
      "+----+--------+----------+----------+\n",
      "CPD of Rain:\n",
      "+---------+---------------------+-------------+\n",
      "| Cloudy  | Cloudy(0)           | Cloudy(1)   |\n",
      "+---------+---------------------+-------------+\n",
      "| Rain(0) | 0.8073770491803278  | 0.177734375 |\n",
      "+---------+---------------------+-------------+\n",
      "| Rain(1) | 0.19262295081967212 | 0.822265625 |\n",
      "+---------+---------------------+-------------+\n",
      "[bnlearn] >Data is stored in [query.df]\n",
      "+----+-------------+--------+-------------+-----------+\n",
      "|    |   Wet_Grass |   Rain |   Sprinkler |         p |\n",
      "+====+=============+========+=============+===========+\n",
      "|  0 |           0 |      0 |           0 | 1         |\n",
      "+----+-------------+--------+-------------+-----------+\n",
      "|  1 |           0 |      0 |           1 | 0.15625   |\n",
      "+----+-------------+--------+-------------+-----------+\n",
      "|  2 |           0 |      1 |           0 | 0.113953  |\n",
      "+----+-------------+--------+-------------+-----------+\n",
      "|  3 |           0 |      1 |           1 | 0.0235294 |\n",
      "+----+-------------+--------+-------------+-----------+\n",
      "|  4 |           1 |      0 |           0 | 0         |\n",
      "+----+-------------+--------+-------------+-----------+\n",
      "|  5 |           1 |      0 |           1 | 0.84375   |\n",
      "+----+-------------+--------+-------------+-----------+\n",
      "|  6 |           1 |      1 |           0 | 0.886047  |\n",
      "+----+-------------+--------+-------------+-----------+\n",
      "|  7 |           1 |      1 |           1 | 0.976471  |\n",
      "+----+-------------+--------+-------------+-----------+\n",
      "CPD of Wet_Grass:\n",
      "+--------------+--------------+-----+----------------------+\n",
      "| Rain         | Rain(0)      | ... | Rain(1)              |\n",
      "+--------------+--------------+-----+----------------------+\n",
      "| Sprinkler    | Sprinkler(0) | ... | Sprinkler(1)         |\n",
      "+--------------+--------------+-----+----------------------+\n",
      "| Wet_Grass(0) | 1.0          | ... | 0.023529411764705882 |\n",
      "+--------------+--------------+-----+----------------------+\n",
      "| Wet_Grass(1) | 0.0          | ... | 0.9764705882352941   |\n",
      "+--------------+--------------+-----+----------------------+\n",
      "[bnlearn] >Independencies:\n",
      "(Cloudy ⟂ Wet_Grass | Rain, Sprinkler)\n",
      "(Rain ⟂ Sprinkler | Cloudy)\n",
      "(Sprinkler ⟂ Rain | Cloudy)\n",
      "(Wet_Grass ⟂ Cloudy | Rain, Sprinkler)\n",
      "[bnlearn] >Nodes: ['Cloudy', 'Sprinkler', 'Rain', 'Wet_Grass']\n",
      "[bnlearn] >Edges: [('Cloudy', 'Sprinkler'), ('Cloudy', 'Rain'), ('Sprinkler', 'Wet_Grass'), ('Rain', 'Wet_Grass')]\n"
     ]
    },
    {
     "data": {
      "text/plain": [
       "{'Cloudy':    Cloudy      p\n",
       " 0       0  0.488\n",
       " 1       1  0.512,\n",
       " 'Sprinkler':    Sprinkler  Cloudy         p\n",
       " 0          0       0  0.461066\n",
       " 1          0       1  0.910156\n",
       " 2          1       0  0.538934\n",
       " 3          1       1  0.089844,\n",
       " 'Rain':    Rain  Cloudy         p\n",
       " 0     0       0  0.807377\n",
       " 1     0       1  0.177734\n",
       " 2     1       0  0.192623\n",
       " 3     1       1  0.822266,\n",
       " 'Wet_Grass':    Wet_Grass  Rain  Sprinkler         p\n",
       " 0          0     0          0  1.000000\n",
       " 1          0     0          1  0.156250\n",
       " 2          0     1          0  0.113953\n",
       " 3          0     1          1  0.023529\n",
       " 4          1     0          0  0.000000\n",
       " 5          1     0          1  0.843750\n",
       " 6          1     1          0  0.886047\n",
       " 7          1     1          1  0.976471}"
      ]
     },
     "execution_count": 27,
     "metadata": {},
     "output_type": "execute_result"
    }
   ],
   "source": [
    "# Print the learned CPDs\n",
    "bn.print_CPD(model_mle)"
   ]
  },
  {
   "cell_type": "code",
   "execution_count": 29,
   "metadata": {},
   "outputs": [
    {
     "name": "stdout",
     "output_type": "stream",
     "text": [
      "[bnlearn] >Parameter learning> Computing parameters using [bayes]\n",
      "[bnlearn] >CPD of Cloudy:\n",
      "+-----------+-------+\n",
      "| Cloudy(0) | 0.494 |\n",
      "+-----------+-------+\n",
      "| Cloudy(1) | 0.506 |\n",
      "+-----------+-------+\n",
      "[bnlearn] >CPD of Sprinkler:\n",
      "+--------------+--------------------+--------------------+\n",
      "| Cloudy       | Cloudy(0)          | Cloudy(1)          |\n",
      "+--------------+--------------------+--------------------+\n",
      "| Sprinkler(0) | 0.4807692307692308 | 0.7075098814229249 |\n",
      "+--------------+--------------------+--------------------+\n",
      "| Sprinkler(1) | 0.5192307692307693 | 0.2924901185770751 |\n",
      "+--------------+--------------------+--------------------+\n",
      "[bnlearn] >CPD of Rain:\n",
      "+---------+--------------------+---------------------+\n",
      "| Cloudy  | Cloudy(0)          | Cloudy(1)           |\n",
      "+---------+--------------------+---------------------+\n",
      "| Rain(0) | 0.6518218623481782 | 0.33695652173913043 |\n",
      "+---------+--------------------+---------------------+\n",
      "| Rain(1) | 0.3481781376518219 | 0.6630434782608695  |\n",
      "+---------+--------------------+---------------------+\n",
      "[bnlearn] >CPD of Wet_Grass:\n",
      "+--------------+--------------------+-----+---------------------+\n",
      "| Rain         | Rain(0)            | ... | Rain(1)             |\n",
      "+--------------+--------------------+-----+---------------------+\n",
      "| Sprinkler    | Sprinkler(0)       | ... | Sprinkler(1)        |\n",
      "+--------------+--------------------+-----+---------------------+\n",
      "| Wet_Grass(0) | 0.7553816046966731 | ... | 0.37910447761194027 |\n",
      "+--------------+--------------------+-----+---------------------+\n",
      "| Wet_Grass(1) | 0.2446183953033268 | ... | 0.6208955223880597  |\n",
      "+--------------+--------------------+-----+---------------------+\n",
      "[bnlearn] >Compute structure scores ['k2', 'bds', 'bic', 'bdeu'] for model comparison (higher is better).\n",
      "[bnlearn] >Data is stored in [query.df]\n",
      "+----+----------+-------+\n",
      "|    |   Cloudy |     p |\n",
      "+====+==========+=======+\n",
      "|  0 |        0 | 0.494 |\n",
      "+----+----------+-------+\n",
      "|  1 |        1 | 0.506 |\n",
      "+----+----------+-------+\n",
      "CPD of Cloudy:\n",
      "+-----------+-------+\n",
      "| Cloudy(0) | 0.494 |\n",
      "+-----------+-------+\n",
      "| Cloudy(1) | 0.506 |\n",
      "+-----------+-------+\n",
      "[bnlearn] >Data is stored in [query.df]\n",
      "+----+-------------+----------+----------+\n",
      "|    |   Sprinkler |   Cloudy |        p |\n",
      "+====+=============+==========+==========+\n",
      "|  0 |           0 |        0 | 0.480769 |\n",
      "+----+-------------+----------+----------+\n",
      "|  1 |           0 |        1 | 0.70751  |\n",
      "+----+-------------+----------+----------+\n",
      "|  2 |           1 |        0 | 0.519231 |\n",
      "+----+-------------+----------+----------+\n",
      "|  3 |           1 |        1 | 0.29249  |\n",
      "+----+-------------+----------+----------+\n",
      "CPD of Sprinkler:\n",
      "+--------------+--------------------+--------------------+\n",
      "| Cloudy       | Cloudy(0)          | Cloudy(1)          |\n",
      "+--------------+--------------------+--------------------+\n",
      "| Sprinkler(0) | 0.4807692307692308 | 0.7075098814229249 |\n",
      "+--------------+--------------------+--------------------+\n",
      "| Sprinkler(1) | 0.5192307692307693 | 0.2924901185770751 |\n",
      "+--------------+--------------------+--------------------+\n",
      "[bnlearn] >Data is stored in [query.df]\n",
      "+----+--------+----------+----------+\n",
      "|    |   Rain |   Cloudy |        p |\n",
      "+====+========+==========+==========+\n",
      "|  0 |      0 |        0 | 0.651822 |\n",
      "+----+--------+----------+----------+\n",
      "|  1 |      0 |        1 | 0.336957 |\n",
      "+----+--------+----------+----------+\n",
      "|  2 |      1 |        0 | 0.348178 |\n",
      "+----+--------+----------+----------+\n",
      "|  3 |      1 |        1 | 0.663043 |\n",
      "+----+--------+----------+----------+\n",
      "CPD of Rain:\n",
      "+---------+--------------------+---------------------+\n",
      "| Cloudy  | Cloudy(0)          | Cloudy(1)           |\n",
      "+---------+--------------------+---------------------+\n",
      "| Rain(0) | 0.6518218623481782 | 0.33695652173913043 |\n",
      "+---------+--------------------+---------------------+\n",
      "| Rain(1) | 0.3481781376518219 | 0.6630434782608695  |\n",
      "+---------+--------------------+---------------------+\n",
      "[bnlearn] >Data is stored in [query.df]\n",
      "+----+-------------+--------+-------------+----------+\n",
      "|    |   Wet_Grass |   Rain |   Sprinkler |        p |\n",
      "+====+=============+========+=============+==========+\n",
      "|  0 |           0 |      0 |           0 | 0.755382 |\n",
      "+----+-------------+--------+-------------+----------+\n",
      "|  1 |           0 |      0 |           1 | 0.337553 |\n",
      "+----+-------------+--------+-------------+----------+\n",
      "|  2 |           0 |      1 |           0 | 0.255882 |\n",
      "+----+-------------+--------+-------------+----------+\n",
      "|  3 |           0 |      1 |           1 | 0.379104 |\n",
      "+----+-------------+--------+-------------+----------+\n",
      "|  4 |           1 |      0 |           0 | 0.244618 |\n",
      "+----+-------------+--------+-------------+----------+\n",
      "|  5 |           1 |      0 |           1 | 0.662447 |\n",
      "+----+-------------+--------+-------------+----------+\n",
      "|  6 |           1 |      1 |           0 | 0.744118 |\n",
      "+----+-------------+--------+-------------+----------+\n",
      "|  7 |           1 |      1 |           1 | 0.620896 |\n",
      "+----+-------------+--------+-------------+----------+\n",
      "CPD of Wet_Grass:\n",
      "+--------------+--------------------+-----+---------------------+\n",
      "| Rain         | Rain(0)            | ... | Rain(1)             |\n",
      "+--------------+--------------------+-----+---------------------+\n",
      "| Sprinkler    | Sprinkler(0)       | ... | Sprinkler(1)        |\n",
      "+--------------+--------------------+-----+---------------------+\n",
      "| Wet_Grass(0) | 0.7553816046966731 | ... | 0.37910447761194027 |\n",
      "+--------------+--------------------+-----+---------------------+\n",
      "| Wet_Grass(1) | 0.2446183953033268 | ... | 0.6208955223880597  |\n",
      "+--------------+--------------------+-----+---------------------+\n",
      "[bnlearn] >Independencies:\n",
      "(Cloudy ⟂ Wet_Grass | Rain, Sprinkler)\n",
      "(Rain ⟂ Sprinkler | Cloudy)\n",
      "(Sprinkler ⟂ Rain | Cloudy)\n",
      "(Wet_Grass ⟂ Cloudy | Rain, Sprinkler)\n",
      "[bnlearn] >Nodes: ['Cloudy', 'Sprinkler', 'Rain', 'Wet_Grass']\n",
      "[bnlearn] >Edges: [('Cloudy', 'Sprinkler'), ('Cloudy', 'Rain'), ('Sprinkler', 'Wet_Grass'), ('Rain', 'Wet_Grass')]\n"
     ]
    },
    {
     "data": {
      "text/plain": [
       "{'Cloudy':    Cloudy      p\n",
       " 0       0  0.494\n",
       " 1       1  0.506,\n",
       " 'Sprinkler':    Sprinkler  Cloudy         p\n",
       " 0          0       0  0.480769\n",
       " 1          0       1  0.707510\n",
       " 2          1       0  0.519231\n",
       " 3          1       1  0.292490,\n",
       " 'Rain':    Rain  Cloudy         p\n",
       " 0     0       0  0.651822\n",
       " 1     0       1  0.336957\n",
       " 2     1       0  0.348178\n",
       " 3     1       1  0.663043,\n",
       " 'Wet_Grass':    Wet_Grass  Rain  Sprinkler         p\n",
       " 0          0     0          0  0.755382\n",
       " 1          0     0          1  0.337553\n",
       " 2          0     1          0  0.255882\n",
       " 3          0     1          1  0.379104\n",
       " 4          1     0          0  0.244618\n",
       " 5          1     0          1  0.662447\n",
       " 6          1     1          0  0.744118\n",
       " 7          1     1          1  0.620896}"
      ]
     },
     "execution_count": 29,
     "metadata": {},
     "output_type": "execute_result"
    }
   ],
   "source": [
    "# Parameter learning on the user-defined DAG and input data using Bayes\n",
    "model_bayes = bn.parameter_learning.fit(DAG, df, methodtype='bayes')\n",
    "\n",
    "# Print the learned CPDs\n",
    "bn.print_CPD(model_bayes)"
   ]
  },
  {
   "attachments": {},
   "cell_type": "markdown",
   "metadata": {},
   "source": [
    "### Inferences"
   ]
  },
  {
   "cell_type": "code",
   "execution_count": 30,
   "metadata": {},
   "outputs": [
    {
     "name": "stdout",
     "output_type": "stream",
     "text": [
      "[bnlearn] >Parameter learning> Computing parameters using [bayes]\n",
      "[bnlearn] >CPD of Cloudy:\n",
      "+-----------+-------+\n",
      "| Cloudy(0) | 0.494 |\n",
      "+-----------+-------+\n",
      "| Cloudy(1) | 0.506 |\n",
      "+-----------+-------+\n",
      "[bnlearn] >CPD of Sprinkler:\n",
      "+--------------+--------------------+--------------------+\n",
      "| Cloudy       | Cloudy(0)          | Cloudy(1)          |\n",
      "+--------------+--------------------+--------------------+\n",
      "| Sprinkler(0) | 0.4807692307692308 | 0.7075098814229249 |\n",
      "+--------------+--------------------+--------------------+\n",
      "| Sprinkler(1) | 0.5192307692307693 | 0.2924901185770751 |\n",
      "+--------------+--------------------+--------------------+\n",
      "[bnlearn] >CPD of Rain:\n",
      "+---------+--------------------+---------------------+\n",
      "| Cloudy  | Cloudy(0)          | Cloudy(1)           |\n",
      "+---------+--------------------+---------------------+\n",
      "| Rain(0) | 0.6518218623481782 | 0.33695652173913043 |\n",
      "+---------+--------------------+---------------------+\n",
      "| Rain(1) | 0.3481781376518219 | 0.6630434782608695  |\n",
      "+---------+--------------------+---------------------+\n",
      "[bnlearn] >CPD of Wet_Grass:\n",
      "+--------------+--------------------+-----+---------------------+\n",
      "| Rain         | Rain(0)            | ... | Rain(1)             |\n",
      "+--------------+--------------------+-----+---------------------+\n",
      "| Sprinkler    | Sprinkler(0)       | ... | Sprinkler(1)        |\n",
      "+--------------+--------------------+-----+---------------------+\n",
      "| Wet_Grass(0) | 0.7553816046966731 | ... | 0.37910447761194027 |\n",
      "+--------------+--------------------+-----+---------------------+\n",
      "| Wet_Grass(1) | 0.2446183953033268 | ... | 0.6208955223880597  |\n",
      "+--------------+--------------------+-----+---------------------+\n",
      "[bnlearn] >Compute structure scores ['k2', 'bds', 'bic', 'bdeu'] for model comparison (higher is better).\n",
      "[bnlearn] >Data is stored in [query.df]\n",
      "+----+----------+-------+\n",
      "|    |   Cloudy |     p |\n",
      "+====+==========+=======+\n",
      "|  0 |        0 | 0.494 |\n",
      "+----+----------+-------+\n",
      "|  1 |        1 | 0.506 |\n",
      "+----+----------+-------+\n",
      "CPD of Cloudy:\n",
      "+-----------+-------+\n",
      "| Cloudy(0) | 0.494 |\n",
      "+-----------+-------+\n",
      "| Cloudy(1) | 0.506 |\n",
      "+-----------+-------+\n",
      "[bnlearn] >Data is stored in [query.df]\n",
      "+----+-------------+----------+----------+\n",
      "|    |   Sprinkler |   Cloudy |        p |\n",
      "+====+=============+==========+==========+\n",
      "|  0 |           0 |        0 | 0.480769 |\n",
      "+----+-------------+----------+----------+\n",
      "|  1 |           0 |        1 | 0.70751  |\n",
      "+----+-------------+----------+----------+\n",
      "|  2 |           1 |        0 | 0.519231 |\n",
      "+----+-------------+----------+----------+\n",
      "|  3 |           1 |        1 | 0.29249  |\n",
      "+----+-------------+----------+----------+\n",
      "CPD of Sprinkler:\n",
      "+--------------+--------------------+--------------------+\n",
      "| Cloudy       | Cloudy(0)          | Cloudy(1)          |\n",
      "+--------------+--------------------+--------------------+\n",
      "| Sprinkler(0) | 0.4807692307692308 | 0.7075098814229249 |\n",
      "+--------------+--------------------+--------------------+\n",
      "| Sprinkler(1) | 0.5192307692307693 | 0.2924901185770751 |\n",
      "+--------------+--------------------+--------------------+\n",
      "[bnlearn] >Data is stored in [query.df]\n",
      "+----+--------+----------+----------+\n",
      "|    |   Rain |   Cloudy |        p |\n",
      "+====+========+==========+==========+\n",
      "|  0 |      0 |        0 | 0.651822 |\n",
      "+----+--------+----------+----------+\n",
      "|  1 |      0 |        1 | 0.336957 |\n",
      "+----+--------+----------+----------+\n",
      "|  2 |      1 |        0 | 0.348178 |\n",
      "+----+--------+----------+----------+\n",
      "|  3 |      1 |        1 | 0.663043 |\n",
      "+----+--------+----------+----------+\n",
      "CPD of Rain:\n",
      "+---------+--------------------+---------------------+\n",
      "| Cloudy  | Cloudy(0)          | Cloudy(1)           |\n",
      "+---------+--------------------+---------------------+\n",
      "| Rain(0) | 0.6518218623481782 | 0.33695652173913043 |\n",
      "+---------+--------------------+---------------------+\n",
      "| Rain(1) | 0.3481781376518219 | 0.6630434782608695  |\n",
      "+---------+--------------------+---------------------+\n",
      "[bnlearn] >Data is stored in [query.df]\n",
      "+----+-------------+--------+-------------+----------+\n",
      "|    |   Wet_Grass |   Rain |   Sprinkler |        p |\n",
      "+====+=============+========+=============+==========+\n",
      "|  0 |           0 |      0 |           0 | 0.755382 |\n",
      "+----+-------------+--------+-------------+----------+\n",
      "|  1 |           0 |      0 |           1 | 0.337553 |\n",
      "+----+-------------+--------+-------------+----------+\n",
      "|  2 |           0 |      1 |           0 | 0.255882 |\n",
      "+----+-------------+--------+-------------+----------+\n",
      "|  3 |           0 |      1 |           1 | 0.379104 |\n",
      "+----+-------------+--------+-------------+----------+\n",
      "|  4 |           1 |      0 |           0 | 0.244618 |\n",
      "+----+-------------+--------+-------------+----------+\n",
      "|  5 |           1 |      0 |           1 | 0.662447 |\n",
      "+----+-------------+--------+-------------+----------+\n",
      "|  6 |           1 |      1 |           0 | 0.744118 |\n",
      "+----+-------------+--------+-------------+----------+\n",
      "|  7 |           1 |      1 |           1 | 0.620896 |\n",
      "+----+-------------+--------+-------------+----------+\n",
      "CPD of Wet_Grass:\n",
      "+--------------+--------------------+-----+---------------------+\n",
      "| Rain         | Rain(0)            | ... | Rain(1)             |\n",
      "+--------------+--------------------+-----+---------------------+\n",
      "| Sprinkler    | Sprinkler(0)       | ... | Sprinkler(1)        |\n",
      "+--------------+--------------------+-----+---------------------+\n",
      "| Wet_Grass(0) | 0.7553816046966731 | ... | 0.37910447761194027 |\n",
      "+--------------+--------------------+-----+---------------------+\n",
      "| Wet_Grass(1) | 0.2446183953033268 | ... | 0.6208955223880597  |\n",
      "+--------------+--------------------+-----+---------------------+\n",
      "[bnlearn] >Independencies:\n",
      "(Cloudy ⟂ Wet_Grass | Rain, Sprinkler)\n",
      "(Rain ⟂ Sprinkler | Cloudy)\n",
      "(Sprinkler ⟂ Rain | Cloudy)\n",
      "(Wet_Grass ⟂ Cloudy | Rain, Sprinkler)\n",
      "[bnlearn] >Nodes: ['Cloudy', 'Sprinkler', 'Rain', 'Wet_Grass']\n",
      "[bnlearn] >Edges: [('Cloudy', 'Sprinkler'), ('Cloudy', 'Rain'), ('Sprinkler', 'Wet_Grass'), ('Rain', 'Wet_Grass')]\n"
     ]
    },
    {
     "data": {
      "text/plain": [
       "{'Cloudy':    Cloudy      p\n",
       " 0       0  0.494\n",
       " 1       1  0.506,\n",
       " 'Sprinkler':    Sprinkler  Cloudy         p\n",
       " 0          0       0  0.480769\n",
       " 1          0       1  0.707510\n",
       " 2          1       0  0.519231\n",
       " 3          1       1  0.292490,\n",
       " 'Rain':    Rain  Cloudy         p\n",
       " 0     0       0  0.651822\n",
       " 1     0       1  0.336957\n",
       " 2     1       0  0.348178\n",
       " 3     1       1  0.663043,\n",
       " 'Wet_Grass':    Wet_Grass  Rain  Sprinkler         p\n",
       " 0          0     0          0  0.755382\n",
       " 1          0     0          1  0.337553\n",
       " 2          0     1          0  0.255882\n",
       " 3          0     1          1  0.379104\n",
       " 4          1     0          0  0.244618\n",
       " 5          1     0          1  0.662447\n",
       " 6          1     1          0  0.744118\n",
       " 7          1     1          1  0.620896}"
      ]
     },
     "execution_count": 30,
     "metadata": {},
     "output_type": "execute_result"
    }
   ],
   "source": [
    "# Parameter learning on the user-defined DAG and input data using Bayes to estimate the CPTs\n",
    "model = bn.parameter_learning.fit(DAG, df, methodtype='bayes')\n",
    "bn.print_CPD(model)"
   ]
  },
  {
   "cell_type": "code",
   "execution_count": 31,
   "metadata": {},
   "outputs": [
    {
     "name": "stdout",
     "output_type": "stream",
     "text": [
      "[bnlearn] >Variable Elimination..\n",
      "[bnlearn] >Data is stored in [query.df]\n",
      "+----+-------------+----------+\n",
      "|    |   Wet_Grass |        p |\n",
      "+====+=============+==========+\n",
      "|  0 |           0 | 0.486917 |\n",
      "+----+-------------+----------+\n",
      "|  1 |           1 | 0.513083 |\n",
      "+----+-------------+----------+\n",
      "   Wet_Grass         p\n",
      "0          0  0.486917\n",
      "1          1  0.513083\n"
     ]
    }
   ],
   "source": [
    "q1 = bn.inference.fit(model, variables=['Wet_Grass'], evidence={'Sprinkler':0})\n",
    "print(q1.df)"
   ]
  },
  {
   "cell_type": "code",
   "execution_count": 32,
   "metadata": {},
   "outputs": [
    {
     "name": "stdout",
     "output_type": "stream",
     "text": [
      "[bnlearn] >Variable Elimination..\n",
      "[bnlearn] >Data is stored in [query.df]\n",
      "+----+--------+----------+\n",
      "|    |   Rain |        p |\n",
      "+====+========+==========+\n",
      "|  0 |      0 | 0.336957 |\n",
      "+----+--------+----------+\n",
      "|  1 |      1 | 0.663043 |\n",
      "+----+--------+----------+\n",
      "   Rain         p\n",
      "0     0  0.336957\n",
      "1     1  0.663043\n"
     ]
    }
   ],
   "source": [
    "q2 = bn.inference.fit(model, variables=['Rain'], evidence={'Sprinkler':0, 'Cloudy':1})\n",
    "print(q2.df)"
   ]
  },
  {
   "cell_type": "code",
   "execution_count": 33,
   "metadata": {},
   "outputs": [
    {
     "name": "stdout",
     "output_type": "stream",
     "text": [
      "[bnlearn] >Variable Elimination..\n",
      "[bnlearn] >Data is stored in [query.df]\n",
      "+----+-------------+--------+----------+\n",
      "|    |   Wet_Grass |   Rain |        p |\n",
      "+====+=============+========+==========+\n",
      "|  0 |           0 |      0 | 0.181137 |\n",
      "+----+-------------+--------+----------+\n",
      "|  1 |           0 |      1 | 0.17567  |\n",
      "+----+-------------+--------+----------+\n",
      "|  2 |           1 |      0 | 0.355481 |\n",
      "+----+-------------+--------+----------+\n",
      "|  3 |           1 |      1 | 0.287712 |\n",
      "+----+-------------+--------+----------+\n",
      "   Wet_Grass  Rain         p\n",
      "0          0     0  0.181137\n",
      "1          0     1  0.175670\n",
      "2          1     0  0.355481\n",
      "3          1     1  0.287712\n"
     ]
    }
   ],
   "source": [
    "# Inferences with two or more variables can also be made such as:\n",
    "q3 = bn.inference.fit(model, variables=['Wet_Grass','Rain'], evidence={'Sprinkler':1})\n",
    "print(q3.df)"
   ]
  },
  {
   "attachments": {},
   "cell_type": "markdown",
   "metadata": {},
   "source": [
    "How probable is it to have wet grass given the sprinkler is off?\n",
    "\n",
    "P(Wet_grass=1 | Sprinkler=0) = 0.51\n",
    "\n",
    "How probable is it have a rainy day given sprinkler is off and it is cloudy?\n",
    "\n",
    "P(Rain=1 | Sprinkler=0, Cloudy=1) = 0.663"
   ]
  },
  {
   "attachments": {},
   "cell_type": "markdown",
   "metadata": {},
   "source": [
    "## Application"
   ]
  },
  {
   "cell_type": "code",
   "execution_count": 79,
   "metadata": {},
   "outputs": [],
   "source": [
    "# Get root directory\n",
    "root_dir = os.path.dirname(os.path.abspath(''))\n",
    "# read data\n",
    "df_1 = pd.read_csv(\n",
    "    os.path.join(root_dir, 'data', 'filtered_data.csv')\n",
    "    )"
   ]
  },
  {
   "cell_type": "code",
   "execution_count": 80,
   "metadata": {},
   "outputs": [
    {
     "data": {
      "text/html": [
       "<div>\n",
       "<style scoped>\n",
       "    .dataframe tbody tr th:only-of-type {\n",
       "        vertical-align: middle;\n",
       "    }\n",
       "\n",
       "    .dataframe tbody tr th {\n",
       "        vertical-align: top;\n",
       "    }\n",
       "\n",
       "    .dataframe thead th {\n",
       "        text-align: right;\n",
       "    }\n",
       "</style>\n",
       "<table border=\"1\" class=\"dataframe\">\n",
       "  <thead>\n",
       "    <tr style=\"text-align: right;\">\n",
       "      <th></th>\n",
       "      <th>edad</th>\n",
       "      <th>hombre</th>\n",
       "      <th>minoria_raza</th>\n",
       "      <th>anios_educacion</th>\n",
       "      <th>discapacidad</th>\n",
       "      <th>enfermedad</th>\n",
       "      <th>meses_en_calle</th>\n",
       "      <th>anios_en_calle</th>\n",
       "      <th>contacto_familia</th>\n",
       "      <th>recibe_ayuda</th>\n",
       "      <th>consume_drogas</th>\n",
       "      <th>edad_promedio_inicio_consumo</th>\n",
       "      <th>minoria_lgbt</th>\n",
       "      <th>ln_edad</th>\n",
       "      <th>ln_edad_promedio_inicio_consumo</th>\n",
       "      <th>ln_meses_en_calle</th>\n",
       "      <th>ln_anios_en_calle</th>\n",
       "    </tr>\n",
       "  </thead>\n",
       "  <tbody>\n",
       "    <tr>\n",
       "      <th>0</th>\n",
       "      <td>44.0</td>\n",
       "      <td>1</td>\n",
       "      <td>0</td>\n",
       "      <td>7.0</td>\n",
       "      <td>1</td>\n",
       "      <td>0</td>\n",
       "      <td>179.0</td>\n",
       "      <td>14.916667</td>\n",
       "      <td>0</td>\n",
       "      <td>0</td>\n",
       "      <td>0</td>\n",
       "      <td>0.000000</td>\n",
       "      <td>0</td>\n",
       "      <td>3.784190</td>\n",
       "      <td>0.000000</td>\n",
       "      <td>5.187386</td>\n",
       "      <td>2.702479</td>\n",
       "    </tr>\n",
       "    <tr>\n",
       "      <th>1</th>\n",
       "      <td>33.0</td>\n",
       "      <td>1</td>\n",
       "      <td>0</td>\n",
       "      <td>2.0</td>\n",
       "      <td>1</td>\n",
       "      <td>0</td>\n",
       "      <td>168.0</td>\n",
       "      <td>14.000000</td>\n",
       "      <td>0</td>\n",
       "      <td>0</td>\n",
       "      <td>0</td>\n",
       "      <td>0.000000</td>\n",
       "      <td>0</td>\n",
       "      <td>3.496508</td>\n",
       "      <td>0.000000</td>\n",
       "      <td>5.123964</td>\n",
       "      <td>2.639057</td>\n",
       "    </tr>\n",
       "    <tr>\n",
       "      <th>2</th>\n",
       "      <td>41.0</td>\n",
       "      <td>1</td>\n",
       "      <td>0</td>\n",
       "      <td>15.0</td>\n",
       "      <td>1</td>\n",
       "      <td>0</td>\n",
       "      <td>36.0</td>\n",
       "      <td>3.000000</td>\n",
       "      <td>0</td>\n",
       "      <td>0</td>\n",
       "      <td>0</td>\n",
       "      <td>0.000000</td>\n",
       "      <td>0</td>\n",
       "      <td>3.713572</td>\n",
       "      <td>0.000000</td>\n",
       "      <td>3.583519</td>\n",
       "      <td>1.098612</td>\n",
       "    </tr>\n",
       "    <tr>\n",
       "      <th>3</th>\n",
       "      <td>29.0</td>\n",
       "      <td>1</td>\n",
       "      <td>0</td>\n",
       "      <td>7.0</td>\n",
       "      <td>0</td>\n",
       "      <td>0</td>\n",
       "      <td>60.0</td>\n",
       "      <td>5.000000</td>\n",
       "      <td>0</td>\n",
       "      <td>0</td>\n",
       "      <td>0</td>\n",
       "      <td>0.000000</td>\n",
       "      <td>0</td>\n",
       "      <td>3.367296</td>\n",
       "      <td>0.000000</td>\n",
       "      <td>4.094345</td>\n",
       "      <td>1.609438</td>\n",
       "    </tr>\n",
       "    <tr>\n",
       "      <th>4</th>\n",
       "      <td>30.0</td>\n",
       "      <td>1</td>\n",
       "      <td>0</td>\n",
       "      <td>11.0</td>\n",
       "      <td>0</td>\n",
       "      <td>0</td>\n",
       "      <td>168.0</td>\n",
       "      <td>14.000000</td>\n",
       "      <td>0</td>\n",
       "      <td>0</td>\n",
       "      <td>0</td>\n",
       "      <td>0.000000</td>\n",
       "      <td>0</td>\n",
       "      <td>3.401197</td>\n",
       "      <td>0.000000</td>\n",
       "      <td>5.123964</td>\n",
       "      <td>2.639057</td>\n",
       "    </tr>\n",
       "    <tr>\n",
       "      <th>...</th>\n",
       "      <td>...</td>\n",
       "      <td>...</td>\n",
       "      <td>...</td>\n",
       "      <td>...</td>\n",
       "      <td>...</td>\n",
       "      <td>...</td>\n",
       "      <td>...</td>\n",
       "      <td>...</td>\n",
       "      <td>...</td>\n",
       "      <td>...</td>\n",
       "      <td>...</td>\n",
       "      <td>...</td>\n",
       "      <td>...</td>\n",
       "      <td>...</td>\n",
       "      <td>...</td>\n",
       "      <td>...</td>\n",
       "      <td>...</td>\n",
       "    </tr>\n",
       "    <tr>\n",
       "      <th>5335</th>\n",
       "      <td>44.0</td>\n",
       "      <td>1</td>\n",
       "      <td>1</td>\n",
       "      <td>15.0</td>\n",
       "      <td>0</td>\n",
       "      <td>0</td>\n",
       "      <td>24.0</td>\n",
       "      <td>2.000000</td>\n",
       "      <td>1</td>\n",
       "      <td>1</td>\n",
       "      <td>1</td>\n",
       "      <td>19.000000</td>\n",
       "      <td>0</td>\n",
       "      <td>3.784190</td>\n",
       "      <td>2.944439</td>\n",
       "      <td>3.178054</td>\n",
       "      <td>0.693147</td>\n",
       "    </tr>\n",
       "    <tr>\n",
       "      <th>5336</th>\n",
       "      <td>35.0</td>\n",
       "      <td>1</td>\n",
       "      <td>0</td>\n",
       "      <td>2.0</td>\n",
       "      <td>0</td>\n",
       "      <td>0</td>\n",
       "      <td>240.0</td>\n",
       "      <td>20.000000</td>\n",
       "      <td>1</td>\n",
       "      <td>1</td>\n",
       "      <td>1</td>\n",
       "      <td>15.500000</td>\n",
       "      <td>0</td>\n",
       "      <td>3.555348</td>\n",
       "      <td>2.740840</td>\n",
       "      <td>5.480639</td>\n",
       "      <td>2.995732</td>\n",
       "    </tr>\n",
       "    <tr>\n",
       "      <th>5337</th>\n",
       "      <td>53.0</td>\n",
       "      <td>1</td>\n",
       "      <td>1</td>\n",
       "      <td>2.0</td>\n",
       "      <td>0</td>\n",
       "      <td>0</td>\n",
       "      <td>264.0</td>\n",
       "      <td>22.000000</td>\n",
       "      <td>1</td>\n",
       "      <td>1</td>\n",
       "      <td>0</td>\n",
       "      <td>0.000000</td>\n",
       "      <td>0</td>\n",
       "      <td>3.970292</td>\n",
       "      <td>0.000000</td>\n",
       "      <td>5.575949</td>\n",
       "      <td>3.091042</td>\n",
       "    </tr>\n",
       "    <tr>\n",
       "      <th>5338</th>\n",
       "      <td>57.0</td>\n",
       "      <td>0</td>\n",
       "      <td>0</td>\n",
       "      <td>7.0</td>\n",
       "      <td>1</td>\n",
       "      <td>1</td>\n",
       "      <td>114.0</td>\n",
       "      <td>9.500000</td>\n",
       "      <td>1</td>\n",
       "      <td>0</td>\n",
       "      <td>1</td>\n",
       "      <td>25.000000</td>\n",
       "      <td>0</td>\n",
       "      <td>4.043051</td>\n",
       "      <td>3.218876</td>\n",
       "      <td>4.736198</td>\n",
       "      <td>2.251292</td>\n",
       "    </tr>\n",
       "    <tr>\n",
       "      <th>5339</th>\n",
       "      <td>51.0</td>\n",
       "      <td>1</td>\n",
       "      <td>1</td>\n",
       "      <td>15.0</td>\n",
       "      <td>0</td>\n",
       "      <td>1</td>\n",
       "      <td>24.0</td>\n",
       "      <td>2.000000</td>\n",
       "      <td>0</td>\n",
       "      <td>1</td>\n",
       "      <td>1</td>\n",
       "      <td>28.333333</td>\n",
       "      <td>0</td>\n",
       "      <td>3.931826</td>\n",
       "      <td>3.344039</td>\n",
       "      <td>3.178054</td>\n",
       "      <td>0.693147</td>\n",
       "    </tr>\n",
       "  </tbody>\n",
       "</table>\n",
       "<p>5340 rows × 17 columns</p>\n",
       "</div>"
      ],
      "text/plain": [
       "      edad  hombre  minoria_raza  anios_educacion  discapacidad  enfermedad   \n",
       "0     44.0       1             0              7.0             1           0  \\\n",
       "1     33.0       1             0              2.0             1           0   \n",
       "2     41.0       1             0             15.0             1           0   \n",
       "3     29.0       1             0              7.0             0           0   \n",
       "4     30.0       1             0             11.0             0           0   \n",
       "...    ...     ...           ...              ...           ...         ...   \n",
       "5335  44.0       1             1             15.0             0           0   \n",
       "5336  35.0       1             0              2.0             0           0   \n",
       "5337  53.0       1             1              2.0             0           0   \n",
       "5338  57.0       0             0              7.0             1           1   \n",
       "5339  51.0       1             1             15.0             0           1   \n",
       "\n",
       "      meses_en_calle  anios_en_calle  contacto_familia  recibe_ayuda   \n",
       "0              179.0       14.916667                 0             0  \\\n",
       "1              168.0       14.000000                 0             0   \n",
       "2               36.0        3.000000                 0             0   \n",
       "3               60.0        5.000000                 0             0   \n",
       "4              168.0       14.000000                 0             0   \n",
       "...              ...             ...               ...           ...   \n",
       "5335            24.0        2.000000                 1             1   \n",
       "5336           240.0       20.000000                 1             1   \n",
       "5337           264.0       22.000000                 1             1   \n",
       "5338           114.0        9.500000                 1             0   \n",
       "5339            24.0        2.000000                 0             1   \n",
       "\n",
       "      consume_drogas  edad_promedio_inicio_consumo  minoria_lgbt   ln_edad   \n",
       "0                  0                      0.000000             0  3.784190  \\\n",
       "1                  0                      0.000000             0  3.496508   \n",
       "2                  0                      0.000000             0  3.713572   \n",
       "3                  0                      0.000000             0  3.367296   \n",
       "4                  0                      0.000000             0  3.401197   \n",
       "...              ...                           ...           ...       ...   \n",
       "5335               1                     19.000000             0  3.784190   \n",
       "5336               1                     15.500000             0  3.555348   \n",
       "5337               0                      0.000000             0  3.970292   \n",
       "5338               1                     25.000000             0  4.043051   \n",
       "5339               1                     28.333333             0  3.931826   \n",
       "\n",
       "      ln_edad_promedio_inicio_consumo  ln_meses_en_calle  ln_anios_en_calle  \n",
       "0                            0.000000           5.187386           2.702479  \n",
       "1                            0.000000           5.123964           2.639057  \n",
       "2                            0.000000           3.583519           1.098612  \n",
       "3                            0.000000           4.094345           1.609438  \n",
       "4                            0.000000           5.123964           2.639057  \n",
       "...                               ...                ...                ...  \n",
       "5335                         2.944439           3.178054           0.693147  \n",
       "5336                         2.740840           5.480639           2.995732  \n",
       "5337                         0.000000           5.575949           3.091042  \n",
       "5338                         3.218876           4.736198           2.251292  \n",
       "5339                         3.344039           3.178054           0.693147  \n",
       "\n",
       "[5340 rows x 17 columns]"
      ]
     },
     "execution_count": 80,
     "metadata": {},
     "output_type": "execute_result"
    }
   ],
   "source": [
    "df_1"
   ]
  },
  {
   "cell_type": "code",
   "execution_count": 81,
   "metadata": {},
   "outputs": [
    {
     "data": {
      "text/plain": [
       "Index(['edad', 'hombre', 'minoria_raza', 'anios_educacion', 'discapacidad',\n",
       "       'enfermedad', 'meses_en_calle', 'anios_en_calle', 'contacto_familia',\n",
       "       'recibe_ayuda', 'consume_drogas', 'edad_promedio_inicio_consumo',\n",
       "       'minoria_lgbt', 'ln_edad', 'ln_edad_promedio_inicio_consumo',\n",
       "       'ln_meses_en_calle', 'ln_anios_en_calle'],\n",
       "      dtype='object')"
      ]
     },
     "execution_count": 81,
     "metadata": {},
     "output_type": "execute_result"
    }
   ],
   "source": [
    "df_1.columns"
   ]
  },
  {
   "cell_type": "code",
   "execution_count": 82,
   "metadata": {},
   "outputs": [],
   "source": [
    "df = df_1[['anios_en_calle', 'consume_drogas', 'edad', 'contacto_familia', 'enfermedad']]\n",
    "# df = df_1"
   ]
  },
  {
   "cell_type": "code",
   "execution_count": 83,
   "metadata": {},
   "outputs": [
    {
     "name": "stdout",
     "output_type": "stream",
     "text": [
      "[bnlearn] >Computing best DAG using [hc]\n",
      "[bnlearn] >Set scoring type at [bic]\n",
      "[bnlearn] >Compute structure scores ['k2', 'bds', 'bic', 'bdeu'] for model comparison (higher is better).\n"
     ]
    }
   ],
   "source": [
    "# Learn the DAG in data using Bayesian structure learning:\n",
    "DAG = bn.structure_learning.fit(df)"
   ]
  },
  {
   "cell_type": "code",
   "execution_count": 84,
   "metadata": {},
   "outputs": [
    {
     "name": "stdout",
     "output_type": "stream",
     "text": [
      "target            anios_en_calle  consume_drogas   edad  contacto_familia   \n",
      "source                                                                      \n",
      "anios_en_calle             False           False  False             False  \\\n",
      "consume_drogas             False           False   True             False   \n",
      "edad                       False           False  False             False   \n",
      "contacto_familia           False           False  False             False   \n",
      "enfermedad                 False           False  False             False   \n",
      "\n",
      "target            enfermedad  \n",
      "source                        \n",
      "anios_en_calle         False  \n",
      "consume_drogas          True  \n",
      "edad                   False  \n",
      "contacto_familia       False  \n",
      "enfermedad             False  \n"
     ]
    }
   ],
   "source": [
    "# print adjacency matrix\n",
    "print(DAG['adjmat'])"
   ]
  },
  {
   "cell_type": "code",
   "execution_count": 85,
   "metadata": {},
   "outputs": [
    {
     "name": "stdout",
     "output_type": "stream",
     "text": [
      "[bnlearn] >Set node properties.\n",
      "[bnlearn] >Set edge properties.\n",
      "[bnlearn] >Plot based on Bayesian model\n"
     ]
    },
    {
     "data": {
      "image/png": "[encoded data removed]",
      "text/plain": [
       "<Figure size 1500x1000 with 1 Axes>"
      ]
     },
     "metadata": {},
     "output_type": "display_data"
    }
   ],
   "source": [
    "# Plot\n",
    "G = bn.plot(DAG)"
   ]
  },
  {
   "attachments": {},
   "cell_type": "markdown",
   "metadata": {},
   "source": []
  }
 ],
 "metadata": {
  "kernelspec": {
   "display_name": "stats_env",
   "language": "python",
   "name": "python3"
  },
  "language_info": {
   "codemirror_mode": {
    "name": "ipython",
    "version": 3
   },
   "file_extension": ".py",
   "mimetype": "text/x-python",
   "name": "python",
   "nbconvert_exporter": "python",
   "pygments_lexer": "ipython3",
   "version": "3.10.10"
  },
  "orig_nbformat": 4
 },
 "nbformat": 4,
 "nbformat_minor": 2
}
